{
 "cells": [
  {
   "cell_type": "code",
   "execution_count": 3,
   "id": "cb74c8f0",
   "metadata": {},
   "outputs": [
    {
     "name": "stdout",
     "output_type": "stream",
     "text": [
      "please enter a number:99\n",
      "Result = 1900\n"
     ]
    }
   ],
   "source": [
    "number = int(input(\"please enter a number:\"))\n",
    "\n",
    "num1 = number\n",
    "result1 = 0\n",
    "count = 0\n",
    "\n",
    "while number!=0:\n",
    "    result = number % 10\n",
    "    number = number // 10\n",
    "    count = count + 1\n",
    "\n",
    "\n",
    "if (num1%2 == 0):\n",
    "    for i in range(3, num1+1, 3):\n",
    "        result1 = result1 + i\n",
    "elif(num1%2!= 0):\n",
    "    for i in range(5, num1+1, 5):\n",
    "        result1 = result1 + i\n",
    "print(\"Result =\", result1*count)\n"
   ]
  }
 ],
 "metadata": {
  "kernelspec": {
   "display_name": "Python 3 (ipykernel)",
   "language": "python",
   "name": "python3"
  },
  "language_info": {
   "codemirror_mode": {
    "name": "ipython",
    "version": 3
   },
   "file_extension": ".py",
   "mimetype": "text/x-python",
   "name": "python",
   "nbconvert_exporter": "python",
   "pygments_lexer": "ipython3",
   "version": "3.9.7"
  }
 },
 "nbformat": 4,
 "nbformat_minor": 5
}
